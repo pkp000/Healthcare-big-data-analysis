{
 "cells": [
  {
   "cell_type": "code",
   "execution_count": 2,
   "id": "4da092c7",
   "metadata": {
    "scrolled": true
   },
   "outputs": [
    {
     "name": "stderr",
     "output_type": "stream",
     "text": [
      "Warning message:\n",
      "\"package 'DESeq2' is in use and will not be installed\"\n"
     ]
    }
   ],
   "source": [
    "install.packages(\"DESeq2\", lib = \"C:/Users/pkp/AppData/Local/R/win-library/4.3\")"
   ]
  },
  {
   "cell_type": "code",
   "execution_count": 3,
   "id": "bf692823",
   "metadata": {},
   "outputs": [
    {
     "name": "stderr",
     "output_type": "stream",
     "text": [
      "'getOption(\"repos\")' replaces Bioconductor standard repositories, see\n",
      "'help(\"repositories\", package = \"BiocManager\")' for details.\n",
      "Replacement repositories:\n",
      "    CRAN: https://cran.r-project.org\n",
      "\n",
      "Bioconductor version 3.18 (BiocManager 1.30.22), R 4.3.3 (2024-02-29 ucrt)\n",
      "\n",
      "Warning message:\n",
      "\"package(s) not installed when version(s) same as or greater than current; use\n",
      "  `force = TRUE` to re-install: 'DESeq2'\"\n",
      "Installation paths not writeable, unable to update packages\n",
      "  path: C:/Program Files/R/R-4.3.3/library\n",
      "  packages:\n",
      "    boot\n",
      "\n"
     ]
    },
    {
     "ename": "ERROR",
     "evalue": "Error in h(simpleError(msg, call)): error in evaluating the argument 'x' in selecting a method for function 'nrow': object 'col_data' not found\n",
     "output_type": "error",
     "traceback": [
      "Error in h(simpleError(msg, call)): error in evaluating the argument 'x' in selecting a method for function 'nrow': object 'col_data' not found\nTraceback:\n",
      "1. DESeqDataSetFromMatrix(countData = counts, colData = col_data, \n .     design = ~condition)",
      "2. stopifnot(ncol(countData) == nrow(colData))",
      "3. nrow(colData)",
      "4. .handleSimpleError(function (cond) \n . .Internal(C_tryCatchHelper(addr, 1L, cond)), \"object 'col_data' not found\", \n .     base::quote(eval(expr, envir, enclos)))",
      "5. h(simpleError(msg, call))"
     ]
    }
   ],
   "source": [
    "if (!requireNamespace(\"BiocManager\", quietly = TRUE))\n",
    "    install.packages(\"BiocManager\")\n",
    "BiocManager::install(\"DESeq2\")\n",
    "library(DESeq2)\n",
    "\n",
    "# 读取基因注释文件\n",
    "gene_annotation_file <- \"gencode.v45.annotation.gtf.gz\"\n",
    "gene_annotation <- read.delim(gene_annotation_file)\n",
    "\n",
    "# 读取原始计数文件\n",
    "raw_counts_file <- \"GSE152075_raw_counts_GEO.txt.gz\"\n",
    "raw_counts <- read.delim(raw_counts_file)\n",
    "\n",
    "# 提取感兴趣的基因ID和其对应的计数数据\n",
    "gene_ids <- raw_counts[, 1]  # 假设基因ID在第一列\n",
    "counts <- raw_counts[, -1]  # 假设表达计数数据从第二列开始\n",
    "\n",
    "# 创建DESeq2对象\n",
    "dds <- DESeqDataSetFromMatrix(countData = counts,\n",
    "                              colData = col_data,\n",
    "                              design = ~ condition)\n",
    "\n",
    "# 进行差异表达分析\n",
    "dds <- DESeq(dds)\n",
    "\n",
    "# 提取差异表达基因结果\n",
    "results <- results(dds)\n",
    "\n",
    "# 将结果保存到文件\n",
    "write.csv(results, file = \"differential_expression_results.csv\", row.names = FALSE)"
   ]
  },
  {
   "cell_type": "code",
   "execution_count": null,
   "id": "26abdb92",
   "metadata": {},
   "outputs": [],
   "source": []
  }
 ],
 "metadata": {
  "kernelspec": {
   "display_name": "R_x64 4.3.3",
   "language": "R",
   "name": "r x64"
  },
  "language_info": {
   "codemirror_mode": "r",
   "file_extension": ".r",
   "mimetype": "text/x-r-source",
   "name": "R",
   "pygments_lexer": "r",
   "version": "4.3.3"
  }
 },
 "nbformat": 4,
 "nbformat_minor": 5
}
